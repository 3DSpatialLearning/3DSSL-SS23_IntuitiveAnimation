{
 "cells": [
  {
   "cell_type": "code",
   "execution_count": 20,
   "metadata": {},
   "outputs": [
    {
     "name": "stdout",
     "output_type": "stream",
     "text": [
      "(227, 50)\n",
      "(227, 100)\n",
      "(227, 6)\n",
      "(227, 3)\n"
     ]
    }
   ],
   "source": [
    "import numpy as np\n",
    "import os\n",
    "base_dir = \"/mnt/hdd/datasets/gigaMove/emoca_pred/024_SEN-01-cramp_small_danger_cam_222200037/EMOCA_v2_lr_mse_20\"\n",
    "\n",
    "directories = [d for d in os.listdir(base_dir) if os.path.isdir(os.path.join(base_dir, d))]\n",
    "directories.sort()\n",
    "exp_list = []\n",
    "shape_list = []\n",
    "pose_list = []\n",
    "tex_list = []\n",
    "for directory in directories:\n",
    "    exp_path = os.path.join(base_dir, directory, \"exp.npy\")\n",
    "    shape_path = os.path.join(base_dir, directory, \"shape.npy\")\n",
    "    pose_path = os.path.join(base_dir, directory, \"pose.npy\")\n",
    "    exp = np.load(exp_path)\n",
    "    shape = np.load(shape_path)\n",
    "    pose = np.load(pose_path)\n",
    "    exp_list.append(exp)\n",
    "    shape_list.append(shape)\n",
    "    pose_list.append(pose)\n",
    "\n",
    "exp_out = np.stack(exp_list, axis=0)\n",
    "shape_out = np.stack(shape_list, axis=0)\n",
    "pose_out = np.stack(pose_list, axis=0)\n",
    "transl = np.repeat(np.zeros((3,)), exp_out.shape[0]).reshape(exp_out.shape[0], 3)\n",
    "\n",
    "print(exp_out.shape)\n",
    "print(shape_out.shape)\n",
    "print(pose_out.shape)\n",
    "print(transl.shape)"
   ]
  },
  {
   "cell_type": "code",
   "execution_count": 21,
   "metadata": {},
   "outputs": [],
   "source": [
    "np.savez(\"test1.npz\", shape = shape_out, expr = exp_out, pose = pose_out)"
   ]
  },
  {
   "cell_type": "code",
   "execution_count": 17,
   "metadata": {},
   "outputs": [],
   "source": [
    "params = np.load(\"/home/haifanzhang/3DSSL-SS23_IntuitiveAnimation/dataProcessing/tracking/tracked_flame_params.npz\")"
   ]
  },
  {
   "cell_type": "code",
   "execution_count": 18,
   "metadata": {},
   "outputs": [
    {
     "data": {
      "text/plain": [
       "(300,)"
      ]
     },
     "execution_count": 18,
     "metadata": {},
     "output_type": "execute_result"
    }
   ],
   "source": [
    "params[\"shape\"].shape"
   ]
  },
  {
   "cell_type": "code",
   "execution_count": 19,
   "metadata": {},
   "outputs": [
    {
     "data": {
      "text/plain": [
       "(328, 100)"
      ]
     },
     "execution_count": 19,
     "metadata": {},
     "output_type": "execute_result"
    }
   ],
   "source": [
    "params[\"expr\"].shape"
   ]
  },
  {
   "cell_type": "code",
   "execution_count": null,
   "metadata": {},
   "outputs": [],
   "source": []
  }
 ],
 "metadata": {
  "kernelspec": {
   "display_name": "faceformer",
   "language": "python",
   "name": "python3"
  },
  "language_info": {
   "codemirror_mode": {
    "name": "ipython",
    "version": 3
   },
   "file_extension": ".py",
   "mimetype": "text/x-python",
   "name": "python",
   "nbconvert_exporter": "python",
   "pygments_lexer": "ipython3",
   "version": "3.9.16"
  },
  "orig_nbformat": 4
 },
 "nbformat": 4,
 "nbformat_minor": 2
}
